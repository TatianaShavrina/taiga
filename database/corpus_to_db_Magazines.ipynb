{
 "cells": [
  {
   "cell_type": "code",
   "execution_count": 1,
   "metadata": {
    "collapsed": true
   },
   "outputs": [],
   "source": [
    "# -*- coding: utf-8 -*- \n",
    "\n",
    "import re \n",
    "from tqdm import tqdm \n",
    "import time\n",
    "from datetime import datetime\n",
    "import sqlite3\n",
    "import sys\n",
    "import os\n",
    "import pandas as pd\n",
    "import unify"
   ]
  },
  {
   "cell_type": "code",
   "execution_count": 2,
   "metadata": {
    "collapsed": true
   },
   "outputs": [],
   "source": [
    "def connect(file_path, primary, columns):\n",
    "    con = sqlite3.connect(file_path)\n",
    "    cur = con.cursor()\n",
    "    cols = \", \".join([c + ' Varchar' for c in columns]) \n",
    "    cur.execute(\"create table meta (\"+primary+\" Varchar PRIMARY KEY, \"+cols+\" )\")\n",
    "    cur.execute(\"CREATE INDEX log on meta (textid);\")\n",
    "    cur.execute(\"create table plain_texts (id Varchar(128) NOT NULL PRIMARY KEY, text Varchar NOT NULL);\")\n",
    "    cur.execute(\"create table tagged_texts (id Varchar(128) NOT NULL PRIMARY KEY, text Varchar NOT NULL );\")\n",
    "    con.commit()\n",
    "    return con, cur"
   ]
  },
  {
   "cell_type": "code",
   "execution_count": 5,
   "metadata": {},
   "outputs": [
    {
     "data": {
      "text/html": [
       "<div>\n",
       "<style>\n",
       "    .dataframe thead tr:only-child th {\n",
       "        text-align: right;\n",
       "    }\n",
       "\n",
       "    .dataframe thead th {\n",
       "        text-align: left;\n",
       "    }\n",
       "\n",
       "    .dataframe tbody tr th {\n",
       "        vertical-align: top;\n",
       "    }\n",
       "</style>\n",
       "<table border=\"1\" class=\"dataframe\">\n",
       "  <thead>\n",
       "    <tr style=\"text-align: right;\">\n",
       "      <th></th>\n",
       "      <th>segment</th>\n",
       "      <th>textid</th>\n",
       "      <th>textname</th>\n",
       "      <th>textregion</th>\n",
       "      <th>textrubric</th>\n",
       "      <th>textdiff</th>\n",
       "      <th>author</th>\n",
       "      <th>authortexts</th>\n",
       "      <th>authorreaders</th>\n",
       "      <th>magazine</th>\n",
       "      <th>date</th>\n",
       "      <th>time</th>\n",
       "      <th>tags</th>\n",
       "      <th>source</th>\n",
       "    </tr>\n",
       "  </thead>\n",
       "  <tbody>\n",
       "    <tr>\n",
       "      <th>0</th>\n",
       "      <td>Журнальный зал</td>\n",
       "      <td>1709</td>\n",
       "      <td>Последний имажинист</td>\n",
       "      <td></td>\n",
       "      <td>Маяковский и его время</td>\n",
       "      <td></td>\n",
       "      <td></td>\n",
       "      <td></td>\n",
       "      <td></td>\n",
       "      <td>Арион</td>\n",
       "      <td>1995, 1</td>\n",
       "      <td></td>\n",
       "      <td></td>\n",
       "      <td>http://magazines.russ.ru/arion/1995/1/8_anna1....</td>\n",
       "    </tr>\n",
       "    <tr>\n",
       "      <th>1</th>\n",
       "      <td>Журнальный зал</td>\n",
       "      <td>1711</td>\n",
       "      <td>Ларец и ключ</td>\n",
       "      <td></td>\n",
       "      <td>Вступительное слово Елены Шварц</td>\n",
       "      <td></td>\n",
       "      <td></td>\n",
       "      <td></td>\n",
       "      <td></td>\n",
       "      <td>Арион</td>\n",
       "      <td>1995, 2</td>\n",
       "      <td></td>\n",
       "      <td></td>\n",
       "      <td>http://magazines.russ.ru/arion/1995/2/ottisp1....</td>\n",
       "    </tr>\n",
       "    <tr>\n",
       "      <th>2</th>\n",
       "      <td>Журнальный зал</td>\n",
       "      <td>1712</td>\n",
       "      <td>Я просто буду рядом</td>\n",
       "      <td></td>\n",
       "      <td>Вступительное слово Е. Бунимовича</td>\n",
       "      <td></td>\n",
       "      <td></td>\n",
       "      <td></td>\n",
       "      <td></td>\n",
       "      <td>Арион</td>\n",
       "      <td>1995, 2</td>\n",
       "      <td></td>\n",
       "      <td></td>\n",
       "      <td>http://magazines.russ.ru/arion/1995/2/panteo1....</td>\n",
       "    </tr>\n",
       "    <tr>\n",
       "      <th>3</th>\n",
       "      <td>Журнальный зал</td>\n",
       "      <td>1717</td>\n",
       "      <td>Стихи и письма</td>\n",
       "      <td></td>\n",
       "      <td>Вступительное слово Любови Пустильник</td>\n",
       "      <td></td>\n",
       "      <td></td>\n",
       "      <td></td>\n",
       "      <td></td>\n",
       "      <td>Арион</td>\n",
       "      <td>1995, 3</td>\n",
       "      <td></td>\n",
       "      <td></td>\n",
       "      <td>http://magazines.russ.ru/arion/1995/3/annals3....</td>\n",
       "    </tr>\n",
       "    <tr>\n",
       "      <th>4</th>\n",
       "      <td>Журнальный зал</td>\n",
       "      <td>1720</td>\n",
       "      <td>Хлеб поэзии в век разброда</td>\n",
       "      <td></td>\n",
       "      <td>Интервью с Иосифом Бродским</td>\n",
       "      <td></td>\n",
       "      <td></td>\n",
       "      <td></td>\n",
       "      <td></td>\n",
       "      <td>Арион</td>\n",
       "      <td>1995, 3</td>\n",
       "      <td></td>\n",
       "      <td></td>\n",
       "      <td>http://magazines.russ.ru/arion/1995/3/dialog.html</td>\n",
       "    </tr>\n",
       "  </tbody>\n",
       "</table>\n",
       "</div>"
      ],
      "text/plain": [
       "          segment  textid                    textname textregion  \\\n",
       "0  Журнальный зал    1709         Последний имажинист              \n",
       "1  Журнальный зал    1711                Ларец и ключ              \n",
       "2  Журнальный зал    1712         Я просто буду рядом              \n",
       "3  Журнальный зал    1717              Стихи и письма              \n",
       "4  Журнальный зал    1720  Хлеб поэзии в век разброда              \n",
       "\n",
       "                              textrubric textdiff author authortexts  \\\n",
       "0                 Маяковский и его время                               \n",
       "1        Вступительное слово Елены Шварц                               \n",
       "2      Вступительное слово Е. Бунимовича                               \n",
       "3  Вступительное слово Любови Пустильник                               \n",
       "4            Интервью с Иосифом Бродским                               \n",
       "\n",
       "  authorreaders magazine     date time tags  \\\n",
       "0                  Арион  1995, 1             \n",
       "1                  Арион  1995, 2             \n",
       "2                  Арион  1995, 2             \n",
       "3                  Арион  1995, 3             \n",
       "4                  Арион  1995, 3             \n",
       "\n",
       "                                              source  \n",
       "0  http://magazines.russ.ru/arion/1995/1/8_anna1....  \n",
       "1  http://magazines.russ.ru/arion/1995/2/ottisp1....  \n",
       "2  http://magazines.russ.ru/arion/1995/2/panteo1....  \n",
       "3  http://magazines.russ.ru/arion/1995/3/annals3....  \n",
       "4  http://magazines.russ.ru/arion/1995/3/dialog.html  "
      ]
     },
     "execution_count": 5,
     "metadata": {},
     "output_type": "execute_result"
    }
   ],
   "source": [
    "workdir = r'/home/tari/Загрузки/taiga/Magazines'\n",
    "filename = 'Magazines.db'\n",
    "file_path = os.path.join(workdir, filename)\n",
    "metatablepathlist = sorted([os.path.join(workdir,file) for file in os.listdir(workdir) if 'metadata' in file])\n",
    "mags = [x[0] for x in os.walk(workdir)]\n",
    "tagged = os.path.join(workdir,'texts_tagged')\n",
    "plain = os.path.join(workdir,'texts')\n",
    "\n",
    "meta = pd.read_csv(metatablepathlist[0], sep='\\t', encoding='utf8')\n",
    "meta = meta.fillna('')\n",
    "meta.head()"
   ]
  },
  {
   "cell_type": "code",
   "execution_count": 6,
   "metadata": {},
   "outputs": [
    {
     "data": {
      "text/plain": [
       "Index(['segment', 'textid', 'textname', 'textregion', 'textrubric', 'textdiff',\n",
       "       'author', 'authortexts', 'authorreaders', 'magazine', 'date', 'time',\n",
       "       'tags', 'source'],\n",
       "      dtype='object')"
      ]
     },
     "execution_count": 6,
     "metadata": {},
     "output_type": "execute_result"
    }
   ],
   "source": [
    "meta.columns"
   ]
  },
  {
   "cell_type": "code",
   "execution_count": 7,
   "metadata": {
    "collapsed": true
   },
   "outputs": [],
   "source": [
    "if not os.path.exists(filename):\n",
    "    con, cur = connect(filename, meta.columns[1], [meta.columns[0]]+list(meta.columns[2:]))\n",
    "else:\n",
    "    con = sqlite3.connect(filename, meta.columns[1], [meta.columns[0]]+list(meta.columns[2:]))\n",
    "    cur = con.cursor()"
   ]
  },
  {
   "cell_type": "code",
   "execution_count": 8,
   "metadata": {},
   "outputs": [
    {
     "data": {
      "text/plain": [
       "{'author': '',\n",
       " 'authorreaders': '',\n",
       " 'authortexts': '',\n",
       " 'date': '1996, 2',\n",
       " 'magazine': 'Арион',\n",
       " 'segment': 'Журнальный зал',\n",
       " 'source': 'http://magazines.russ.ru/arion/1996/2/arion3.html',\n",
       " 'tags': '',\n",
       " 'textdiff': '',\n",
       " 'textid': 1814,\n",
       " 'textname': 'Неизвестные стихи',\n",
       " 'textregion': '',\n",
       " 'textrubric': 'Вступительное слово Лазаря Шерешевского. Публикация Н. Н. Глазкова',\n",
       " 'time': ''}"
      ]
     },
     "execution_count": 8,
     "metadata": {},
     "output_type": "execute_result"
    }
   ],
   "source": [
    "meta.iloc[7].to_dict()"
   ]
  },
  {
   "cell_type": "code",
   "execution_count": 9,
   "metadata": {},
   "outputs": [
    {
     "data": {
      "text/plain": [
       "2045      1\n",
       "81033     1\n",
       "102575    1\n",
       "1709      1\n",
       "46251     1\n",
       "46247     1\n",
       "2211      1\n",
       "2207      1\n",
       "106648    1\n",
       "106645    1\n",
       "Name: textid, dtype: int64"
      ]
     },
     "execution_count": 9,
     "metadata": {},
     "output_type": "execute_result"
    }
   ],
   "source": [
    "#meta = meta.drop_duplicates(subset=None, keep='first', inplace=False)\n",
    "meta.textid.value_counts()[:10]"
   ]
  },
  {
   "cell_type": "code",
   "execution_count": null,
   "metadata": {
    "collapsed": true
   },
   "outputs": [],
   "source": [
    "for ind in range(len(metatablepathlist)):\n",
    "    print(ind, len(metatablepathlist))\n",
    "    meta = pd.read_csv(metatablepathlist[ind], sep='\\t', encoding='utf8')\n",
    "    meta = meta.fillna('')\n",
    "    meta = meta.drop_duplicates(subset=None, keep='first', inplace=False)\n",
    "    for i in tqdm(range(len(meta))):\n",
    "        values = meta.iloc[i].to_dict()\n",
    "        values['textid'] = str(values['textid'])\n",
    "\n",
    "        columns = ', '.join(values.keys())\n",
    "\n",
    "        #print(list(values.values()))\n",
    "        placeholders = ', '.join('?' * len(values))\n",
    "        sql = 'INSERT INTO meta ({}) VALUES ({})'.format(columns, placeholders)\n",
    "        #print(sql)\n",
    "        try:\n",
    "            cur.execute(sql, list(values.values()))\n",
    "\n",
    "            valuest = {'id': values['textid'], 'text': unify.open_text(os.path.join(os.path.join(plain,years[ind]), str(values['textid'])+\".txt\"))}\n",
    "\n",
    "            columns = ', '.join(valuest.keys())\n",
    "            placeholders = ', '.join('?' * len(valuest))\n",
    "\n",
    "            sql2 = 'INSERT INTO plain_texts ({}) VALUES ({})'.format(columns, placeholders) \n",
    "            cur.execute(sql2, list(valuest.values()))\n",
    "            try:\n",
    "                valuest2 = {'id': values['textid'], 'text': unify.open_text(open(os.path.join(os.path.join(tagged,years[ind]), str(values['textid'])+\".txt\"),'r', encoding='utf8').read())}\n",
    "                columns = ', '.join(valuest2.keys())\n",
    "                placeholders = ', '.join('?' * len(valuest2))\n",
    "                sql3 = 'INSERT INTO tagged_texts ({}) VALUES ({})'.format(columns, placeholders) \n",
    "                cur.execute(sql3, list(valuest2.values()))\n",
    "            except:\n",
    "                valuest2 = {'id': values['textid'], 'text': \"\"}\n",
    "                columns = ', '.join(valuest2.keys())\n",
    "                placeholders = ', '.join('?' * len(valuest2))\n",
    "                sql3 = 'INSERT INTO tagged_texts ({}) VALUES ({})'.format(columns, placeholders) \n",
    "                cur.execute(sql3, list(valuest2.values()))\n",
    "            con.commit()\n",
    "        except:\n",
    "            continue"
   ]
  },
  {
   "cell_type": "code",
   "execution_count": null,
   "metadata": {
    "collapsed": true
   },
   "outputs": [],
   "source": []
  }
 ],
 "metadata": {
  "kernelspec": {
   "display_name": "Python 3",
   "language": "python",
   "name": "python3"
  },
  "language_info": {
   "codemirror_mode": {
    "name": "ipython",
    "version": 3
   },
   "file_extension": ".py",
   "mimetype": "text/x-python",
   "name": "python",
   "nbconvert_exporter": "python",
   "pygments_lexer": "ipython3",
   "version": "3.5.2"
  }
 },
 "nbformat": 4,
 "nbformat_minor": 2
}
