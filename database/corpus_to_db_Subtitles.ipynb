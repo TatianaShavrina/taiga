{
 "cells": [
  {
   "cell_type": "code",
   "execution_count": 1,
   "metadata": {
    "collapsed": true
   },
   "outputs": [],
   "source": [
    "# -*- coding: utf-8 -*- \n",
    "\n",
    "import re \n",
    "from tqdm import tqdm \n",
    "import time\n",
    "from datetime import datetime\n",
    "import sqlite3\n",
    "import sys\n",
    "import os\n",
    "import pandas as pd\n",
    "import unify"
   ]
  },
  {
   "cell_type": "code",
   "execution_count": 7,
   "metadata": {
    "collapsed": true
   },
   "outputs": [],
   "source": [
    "def connect(file_path, primary, columns):\n",
    "    con = sqlite3.connect(file_path)\n",
    "    cur = con.cursor()\n",
    "    cols = \", \".join([c + ' Varchar' for c in columns]) \n",
    "    cur.execute(\"create table meta (\"+primary+\" Varchar PRIMARY KEY, \"+cols+\" )\")\n",
    "    cur.execute(\"CREATE INDEX log on meta (id);\")\n",
    "    cur.execute(\"create table plain_texts (id Varchar(128) NOT NULL PRIMARY KEY, text Varchar NOT NULL);\")\n",
    "    cur.execute(\"create table tagged_texts (id Varchar(128) NOT NULL PRIMARY KEY, text Varchar NOT NULL );\")\n",
    "    con.commit()\n",
    "    return con, cur"
   ]
  },
  {
   "cell_type": "code",
   "execution_count": 4,
   "metadata": {},
   "outputs": [
    {
     "data": {
      "text/html": [
       "<div>\n",
       "<style>\n",
       "    .dataframe thead tr:only-child th {\n",
       "        text-align: right;\n",
       "    }\n",
       "\n",
       "    .dataframe thead th {\n",
       "        text-align: left;\n",
       "    }\n",
       "\n",
       "    .dataframe tbody tr th {\n",
       "        vertical-align: top;\n",
       "    }\n",
       "</style>\n",
       "<table border=\"1\" class=\"dataframe\">\n",
       "  <thead>\n",
       "    <tr style=\"text-align: right;\">\n",
       "      <th></th>\n",
       "      <th>id</th>\n",
       "      <th>title</th>\n",
       "      <th>languages</th>\n",
       "      <th>filepath</th>\n",
       "    </tr>\n",
       "  </thead>\n",
       "  <tbody>\n",
       "    <tr>\n",
       "      <th>0</th>\n",
       "      <td>0</td>\n",
       "      <td>10 Things I Hate About You - 1x01 - Pilot.HDTV...</td>\n",
       "      <td>en</td>\n",
       "      <td>10 Things I Hate About You - 1x01 - Pilot.HDTV...</td>\n",
       "    </tr>\n",
       "    <tr>\n",
       "      <th>1</th>\n",
       "      <td>1</td>\n",
       "      <td>10 Things I Hate About You - 1x01 - Pilot.HDTV...</td>\n",
       "      <td>i</td>\n",
       "      <td>10 Things I Hate About You - 1x01 - Pilot.HDTV...</td>\n",
       "    </tr>\n",
       "    <tr>\n",
       "      <th>2</th>\n",
       "      <td>2</td>\n",
       "      <td>10 Things I Hate About You - 1x01 - Pilot.HDTV...</td>\n",
       "      <td>ru</td>\n",
       "      <td>10 Things I Hate About You - 1x01 - Pilot.HDTV...</td>\n",
       "    </tr>\n",
       "    <tr>\n",
       "      <th>3</th>\n",
       "      <td>3</td>\n",
       "      <td>10 Things I Hate About You - 1x02 - I Want You...</td>\n",
       "      <td>en</td>\n",
       "      <td>10 Things I Hate About You - 1x02 - I Want You...</td>\n",
       "    </tr>\n",
       "    <tr>\n",
       "      <th>4</th>\n",
       "      <td>4</td>\n",
       "      <td>10 Things I Hate About You - 1x02 - I Want You...</td>\n",
       "      <td>ru</td>\n",
       "      <td>10 Things I Hate About You - 1x02 - I Want You...</td>\n",
       "    </tr>\n",
       "  </tbody>\n",
       "</table>\n",
       "</div>"
      ],
      "text/plain": [
       "   id                                              title languages  \\\n",
       "0   0  10 Things I Hate About You - 1x01 - Pilot.HDTV...        en   \n",
       "1   1  10 Things I Hate About You - 1x01 - Pilot.HDTV...         i   \n",
       "2   2  10 Things I Hate About You - 1x01 - Pilot.HDTV...        ru   \n",
       "3   3  10 Things I Hate About You - 1x02 - I Want You...        en   \n",
       "4   4  10 Things I Hate About You - 1x02 - I Want You...        ru   \n",
       "\n",
       "                                            filepath  \n",
       "0  10 Things I Hate About You - 1x01 - Pilot.HDTV...  \n",
       "1  10 Things I Hate About You - 1x01 - Pilot.HDTV...  \n",
       "2  10 Things I Hate About You - 1x01 - Pilot.HDTV...  \n",
       "3  10 Things I Hate About You - 1x02 - I Want You...  \n",
       "4  10 Things I Hate About You - 1x02 - I Want You...  "
      ]
     },
     "execution_count": 4,
     "metadata": {},
     "output_type": "execute_result"
    }
   ],
   "source": [
    "workdir = r'/home/tari/Загрузки/taiga/Subtitles_norm'\n",
    "filename = 'Subtitles.db'\n",
    "file_path = os.path.join(workdir, filename)\n",
    "metatablepath = os.path.join(workdir,'newmetadata.csv')\n",
    "tagged = os.path.join(workdir,'texts_tagged')\n",
    "plain = os.path.join(workdir,'texts')\n",
    "\n",
    "meta = pd.read_csv(metatablepath, sep='\\t', encoding='utf8')\n",
    "meta = meta.fillna('')\n",
    "meta.head()"
   ]
  },
  {
   "cell_type": "code",
   "execution_count": 5,
   "metadata": {},
   "outputs": [
    {
     "data": {
      "text/plain": [
       "Index(['id', 'title', 'languages', 'filepath'], dtype='object')"
      ]
     },
     "execution_count": 5,
     "metadata": {},
     "output_type": "execute_result"
    }
   ],
   "source": [
    "meta.columns"
   ]
  },
  {
   "cell_type": "code",
   "execution_count": 9,
   "metadata": {},
   "outputs": [],
   "source": [
    "if not os.path.exists(filename):\n",
    "    con, cur = connect(filename, meta.columns[1], [meta.columns[0]]+list(meta.columns[2:]))\n",
    "else:\n",
    "    con = sqlite3.connect(filename, meta.columns[1], [meta.columns[0]]+list(meta.columns[2:]))\n",
    "    cur = con.cursor()"
   ]
  },
  {
   "cell_type": "code",
   "execution_count": 11,
   "metadata": {},
   "outputs": [
    {
     "data": {
      "text/plain": [
       "{'filepath': \"10 Things I Hate About You - 1x03 - Won't Get Fooled Again.HDTV.FQM.ru.txt\",\n",
       " 'id': 7,\n",
       " 'languages': 'ru',\n",
       " 'title': \"10 Things I Hate About You - 1x03 - Won't Get Fooled Again.HDTV.FQM.ru.srt\"}"
      ]
     },
     "execution_count": 11,
     "metadata": {},
     "output_type": "execute_result"
    }
   ],
   "source": [
    "meta.iloc[7].to_dict()"
   ]
  },
  {
   "cell_type": "code",
   "execution_count": 12,
   "metadata": {},
   "outputs": [
    {
     "data": {
      "text/plain": [
       "'10 Things I Hate About You'"
      ]
     },
     "execution_count": 12,
     "metadata": {},
     "output_type": "execute_result"
    }
   ],
   "source": [
    "m = meta.iloc[7].to_dict()\n",
    "m['filepath'].split(' - ')[0]\n"
   ]
  },
  {
   "cell_type": "code",
   "execution_count": null,
   "metadata": {},
   "outputs": [
    {
     "name": "stderr",
     "output_type": "stream",
     "text": [
      "  1%|▏         | 276/19010 [02:08<2:27:44,  2.11it/s]"
     ]
    }
   ],
   "source": [
    "for i in tqdm(range(len(meta))):\n",
    "    values = meta.iloc[i].to_dict()\n",
    "    folder = values['filepath'].split(' - ')[0]\n",
    "\n",
    "    values['id'] = str(values['id'])\n",
    "    columns = ', '.join(values.keys())\n",
    "    \n",
    "    #print(list(values.values()))\n",
    "    placeholders = ', '.join('?' * len(values))\n",
    "    sql = 'INSERT INTO meta ({}) VALUES ({})'.format(columns, placeholders)\n",
    "    #print(sql)\n",
    "    cur.execute(sql, list(values.values()))\n",
    "    \n",
    "    valuest = {'id': values['id'], 'text': unify.open_text(os.path.join(os.path.join(plain,folder), str(values['filepath'])+\".txt\"))}\n",
    "    \n",
    "    columns = ', '.join(valuest.keys())\n",
    "    placeholders = ', '.join('?' * len(valuest))\n",
    "    sql2 = 'INSERT INTO plain_texts ({}) VALUES ({})'.format(columns, placeholders) \n",
    "    cur.execute(sql2, list(valuest.values()))\n",
    "    try:\n",
    "        valuest2 = {'id': values['id'], 'text': unify.open_text(open(os.path.join(os.path.join(tagged,folder), str(values['filepath'])+\".txt\"),'r', encoding='utf8').read())}\n",
    "        columns = ', '.join(valuest2.keys())\n",
    "        placeholders = ', '.join('?' * len(valuest2))\n",
    "        sql3 = 'INSERT INTO tagged_texts ({}) VALUES ({})'.format(columns, placeholders) \n",
    "        cur.execute(sql3, list(valuest2.values()))\n",
    "    except:\n",
    "        valuest2 = {'id': values['id'], 'text': \"\"}\n",
    "        columns = ', '.join(valuest2.keys())\n",
    "        placeholders = ', '.join('?' * len(valuest2))\n",
    "        sql3 = 'INSERT INTO tagged_texts ({}) VALUES ({})'.format(columns, placeholders) \n",
    "        cur.execute(sql3, list(valuest2.values()))\n",
    "    con.commit()"
   ]
  },
  {
   "cell_type": "code",
   "execution_count": null,
   "metadata": {
    "collapsed": true
   },
   "outputs": [],
   "source": []
  }
 ],
 "metadata": {
  "kernelspec": {
   "display_name": "Python 3",
   "language": "python",
   "name": "python3"
  },
  "language_info": {
   "codemirror_mode": {
    "name": "ipython",
    "version": 3
   },
   "file_extension": ".py",
   "mimetype": "text/x-python",
   "name": "python",
   "nbconvert_exporter": "python",
   "pygments_lexer": "ipython3",
   "version": "3.5.2"
  }
 },
 "nbformat": 4,
 "nbformat_minor": 2
}
