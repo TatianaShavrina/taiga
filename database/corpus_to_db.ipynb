{
 "cells": [
  {
   "cell_type": "code",
   "execution_count": 1,
   "metadata": {
    "collapsed": true
   },
   "outputs": [],
   "source": [
    "# -*- coding: utf-8 -*- \n",
    "\n",
    "import re \n",
    "from tqdm import tqdm \n",
    "import time\n",
    "from datetime import datetime\n",
    "import sqlite3\n",
    "import sys\n",
    "import os\n",
    "import pandas as pd\n",
    "import unify"
   ]
  },
  {
   "cell_type": "code",
   "execution_count": 2,
   "metadata": {
    "collapsed": true
   },
   "outputs": [],
   "source": [
    "def connect(file_path, primary, columns):\n",
    "    con = sqlite3.connect(file_path)\n",
    "    cur = con.cursor()\n",
    "    cols = \", \".join([c + ' Varchar' for c in columns]) \n",
    "    cur.execute(\"create table meta (\"+primary+\" Varchar PRIMARY KEY, \"+cols+\" )\")\n",
    "    cur.execute(\"CREATE INDEX log on meta (id);\")\n",
    "    cur.execute(\"create table plain_texts (id Varchar(128) NOT NULL PRIMARY KEY, text Varchar NOT NULL);\")\n",
    "    cur.execute(\"create table tagged_texts (id Varchar(128) NOT NULL PRIMARY KEY, text Varchar NOT NULL );\")\n",
    "    con.commit()\n",
    "    return con, cur"
   ]
  },
  {
   "cell_type": "code",
   "execution_count": 3,
   "metadata": {},
   "outputs": [
    {
     "data": {
      "text/html": [
       "<div>\n",
       "<style>\n",
       "    .dataframe thead tr:only-child th {\n",
       "        text-align: right;\n",
       "    }\n",
       "\n",
       "    .dataframe thead th {\n",
       "        text-align: left;\n",
       "    }\n",
       "\n",
       "    .dataframe tbody tr th {\n",
       "        vertical-align: top;\n",
       "    }\n",
       "</style>\n",
       "<table border=\"1\" class=\"dataframe\">\n",
       "  <thead>\n",
       "    <tr style=\"text-align: right;\">\n",
       "      <th></th>\n",
       "      <th>source</th>\n",
       "      <th>id</th>\n",
       "      <th>title</th>\n",
       "      <th>theme</th>\n",
       "      <th>author</th>\n",
       "      <th>textdate</th>\n",
       "      <th>tags</th>\n",
       "      <th>URL</th>\n",
       "      <th>Author_profession</th>\n",
       "      <th>About_author</th>\n",
       "    </tr>\n",
       "  </thead>\n",
       "  <tbody>\n",
       "    <tr>\n",
       "      <th>0</th>\n",
       "      <td>Arzamas</td>\n",
       "      <td>400</td>\n",
       "      <td>Бессмысленный тест на знание Arzamas  •</td>\n",
       "      <td>[]</td>\n",
       "      <td>NaN</td>\n",
       "      <td>30.01.2017</td>\n",
       "      <td>[]</td>\n",
       "      <td>http://arzamas.academy/mag/400-two-years</td>\n",
       "      <td>NaN</td>\n",
       "      <td>NaN</td>\n",
       "    </tr>\n",
       "    <tr>\n",
       "      <th>1</th>\n",
       "      <td>Arzamas</td>\n",
       "      <td>299</td>\n",
       "      <td>Черновики Михаила Булгакова  •</td>\n",
       "      <td>['Литература']</td>\n",
       "      <td>Мария Котова</td>\n",
       "      <td>14.06.2016</td>\n",
       "      <td>[]</td>\n",
       "      <td>http://arzamas.academy/mag/299-bulgakov</td>\n",
       "      <td>Историк литературы</td>\n",
       "      <td>Кандидат филологических наук, ведущий научный ...</td>\n",
       "    </tr>\n",
       "    <tr>\n",
       "      <th>2</th>\n",
       "      <td>Arzamas</td>\n",
       "      <td>164</td>\n",
       "      <td>За что на самом деле сожгли Джордано Бруно?  •</td>\n",
       "      <td>['История']</td>\n",
       "      <td>Ованес Акопян</td>\n",
       "      <td>05.11.2015</td>\n",
       "      <td>[]</td>\n",
       "      <td>http://arzamas.academy/mag/164-bruno</td>\n",
       "      <td>Историк</td>\n",
       "      <td>Кандидат исторических наук, специалист по исто...</td>\n",
       "    </tr>\n",
       "    <tr>\n",
       "      <th>3</th>\n",
       "      <td>Arzamas</td>\n",
       "      <td>282</td>\n",
       "      <td>5 новых книг о литературе  •</td>\n",
       "      <td>['Литература']</td>\n",
       "      <td>NaN</td>\n",
       "      <td>05.04.2016</td>\n",
       "      <td>[]</td>\n",
       "      <td>http://arzamas.academy/mag/282-essay</td>\n",
       "      <td>NaN</td>\n",
       "      <td>NaN</td>\n",
       "    </tr>\n",
       "    <tr>\n",
       "      <th>4</th>\n",
       "      <td>Arzamas</td>\n",
       "      <td>303</td>\n",
       "      <td>Зачем американцы красили лицо в черный  •</td>\n",
       "      <td>['Искусство', 'Антропология']</td>\n",
       "      <td>Феликс Сандалов</td>\n",
       "      <td>04.07.2016</td>\n",
       "      <td>[]</td>\n",
       "      <td>http://arzamas.academy/mag/303-menestrels</td>\n",
       "      <td>Журналист</td>\n",
       "      <td>Автор книги «Формейшен: история одной сцены»</td>\n",
       "    </tr>\n",
       "  </tbody>\n",
       "</table>\n",
       "</div>"
      ],
      "text/plain": [
       "    source   id                                             title  \\\n",
       "0  Arzamas  400         Бессмысленный тест на знание Arzamas  •     \n",
       "1  Arzamas  299                  Черновики Михаила Булгакова  •     \n",
       "2  Arzamas  164  За что на самом деле сожгли Джордано Бруно?  •     \n",
       "3  Arzamas  282                    5 новых книг о литературе  •     \n",
       "4  Arzamas  303       Зачем американцы красили лицо в черный  •     \n",
       "\n",
       "                           theme           author    textdate tags  \\\n",
       "0                             []              NaN  30.01.2017   []   \n",
       "1                 ['Литература']     Мария Котова  14.06.2016   []   \n",
       "2                    ['История']    Ованес Акопян  05.11.2015   []   \n",
       "3                 ['Литература']              NaN  05.04.2016   []   \n",
       "4  ['Искусство', 'Антропология']  Феликс Сандалов  04.07.2016   []   \n",
       "\n",
       "                                         URL   Author_profession  \\\n",
       "0   http://arzamas.academy/mag/400-two-years                 NaN   \n",
       "1    http://arzamas.academy/mag/299-bulgakov  Историк литературы   \n",
       "2       http://arzamas.academy/mag/164-bruno             Историк   \n",
       "3       http://arzamas.academy/mag/282-essay                 NaN   \n",
       "4  http://arzamas.academy/mag/303-menestrels           Журналист   \n",
       "\n",
       "                                        About_author  \n",
       "0                                                NaN  \n",
       "1  Кандидат филологических наук, ведущий научный ...  \n",
       "2  Кандидат исторических наук, специалист по исто...  \n",
       "3                                                NaN  \n",
       "4       Автор книги «Формейшен: история одной сцены»  "
      ]
     },
     "execution_count": 3,
     "metadata": {},
     "output_type": "execute_result"
    }
   ],
   "source": [
    "workdir = r'D:\\Arzamas'\n",
    "filename = 'Arzamas.db'\n",
    "file_path = os.path.join(workdir, filename)\n",
    "metatablepath = os.path.join(workdir,'metatable.csv')\n",
    "tagged = os.path.join(workdir,'tagged_texts')\n",
    "plain = os.path.join(workdir,'texts')\n",
    "\n",
    "meta = pd.read_csv(metatablepath, sep='\\t', encoding='utf8')\n",
    "meta.head()"
   ]
  },
  {
   "cell_type": "code",
   "execution_count": 4,
   "metadata": {},
   "outputs": [],
   "source": [
    "\n",
    "if not os.path.exists(filename):\n",
    "    con, cur = connect(filename, meta.columns[1], [meta.columns[0]]+list(meta.columns[2:]))\n",
    "else:\n",
    "    con = sqlite3.connect(filename, meta.columns[1], [meta.columns[0]]+list(meta.columns[2:]))\n",
    "    cur = con.cursor()"
   ]
  },
  {
   "cell_type": "code",
   "execution_count": 5,
   "metadata": {},
   "outputs": [
    {
     "name": "stdout",
     "output_type": "stream",
     "text": [
      "[('table', 'meta', 'meta', 2, 'CREATE TABLE meta (id Varchar PRIMARY KEY, source Varchar, title Varchar, theme Varchar, author Varchar, textdate Varchar, tags Varchar, URL Varchar, Author_profession Varchar, About_author Varchar )'), ('table', 'plain_texts', 'plain_texts', 5, 'CREATE TABLE plain_texts (id Varchar(128) NOT NULL PRIMARY KEY, text Varchar NOT NULL)'), ('table', 'tagged_texts', 'tagged_texts', 7, 'CREATE TABLE tagged_texts (id Varchar(128) NOT NULL PRIMARY KEY, text Varchar NOT NULL )')]\n"
     ]
    }
   ],
   "source": [
    "\n",
    "cur.execute(\"SELECT * FROM sqlite_master WHERE type='table';\")\n",
    "print(cur.fetchall())"
   ]
  },
  {
   "cell_type": "code",
   "execution_count": 16,
   "metadata": {},
   "outputs": [
    {
     "data": {
      "text/plain": [
       "{'About_author': 'Кандидат искусствоведения, доцент Санкт-Петербургского государственного университета промышленных технологий и\\xa0дизайна, лектор Русского музея, автор книг «Всадники особого назначения» (2013), «Костюм и\\xa0мода Российской империи. Эпоха Николая\\xa0II» (2013), «Костюм и\\xa0мода Российской империи. Эпоха Александра\\xa0II и\\xa0Александра\\xa0III» (2015), «Молодые и\\xa0красивые. Мода 1920-х годов» (2016).',\n",
       " 'Author_profession': 'Искусствовед, историк моды',\n",
       " 'URL': 'http://arzamas.academy/mag/208-russo-turkish-war',\n",
       " 'author': 'Ольга Хорошилова',\n",
       " 'id': 208,\n",
       " 'source': 'Arzamas',\n",
       " 'tags': '[]',\n",
       " 'textdate': '07.12.2015',\n",
       " 'theme': \"['История', 'Антропология']\",\n",
       " 'title': 'Как Русско-турецкая война повлияла на моду  •  '}"
      ]
     },
     "execution_count": 16,
     "metadata": {},
     "output_type": "execute_result"
    }
   ],
   "source": [
    "meta.iloc[6].to_dict()"
   ]
  },
  {
   "cell_type": "code",
   "execution_count": 9,
   "metadata": {},
   "outputs": [
    {
     "name": "stdout",
     "output_type": "stream",
     "text": [
      "source, id, title, theme, author, textdate, tags, URL, Author_profession, About_author\n",
      "{'source': 'Arzamas', 'id': '400', 'title': 'Бессмысленный тест на знание Arzamas  •  ', 'theme': '[]', 'author': nan, 'textdate': '30.01.2017', 'tags': '[]', 'URL': 'http://arzamas.academy/mag/400-two-years', 'Author_profession': nan, 'About_author': nan}\n"
     ]
    },
    {
     "ename": "ValueError",
     "evalue": "parameters are of unsupported type",
     "output_type": "error",
     "traceback": [
      "\u001b[1;31m---------------------------------------------------------------------------\u001b[0m",
      "\u001b[1;31mValueError\u001b[0m                                Traceback (most recent call last)",
      "\u001b[1;32m<ipython-input-9-29fa45439197>\u001b[0m in \u001b[0;36m<module>\u001b[1;34m()\u001b[0m\n\u001b[0;32m      7\u001b[0m     \u001b[0mplaceholders\u001b[0m \u001b[1;33m=\u001b[0m \u001b[1;34m', '\u001b[0m\u001b[1;33m.\u001b[0m\u001b[0mjoin\u001b[0m\u001b[1;33m(\u001b[0m\u001b[1;34m'?'\u001b[0m \u001b[1;33m*\u001b[0m \u001b[0mlen\u001b[0m\u001b[1;33m(\u001b[0m\u001b[0mvalues\u001b[0m\u001b[1;33m)\u001b[0m\u001b[1;33m)\u001b[0m\u001b[1;33m\u001b[0m\u001b[0m\n\u001b[0;32m      8\u001b[0m     \u001b[0msql\u001b[0m \u001b[1;33m=\u001b[0m \u001b[1;34m'INSERT INTO meta ({}) VALUES ({})'\u001b[0m\u001b[1;33m.\u001b[0m\u001b[0mformat\u001b[0m\u001b[1;33m(\u001b[0m\u001b[0mcolumns\u001b[0m\u001b[1;33m,\u001b[0m \u001b[0mplaceholders\u001b[0m\u001b[1;33m)\u001b[0m\u001b[1;33m\u001b[0m\u001b[0m\n\u001b[1;32m----> 9\u001b[1;33m     \u001b[0mcur\u001b[0m\u001b[1;33m.\u001b[0m\u001b[0mexecute\u001b[0m\u001b[1;33m(\u001b[0m\u001b[0msql\u001b[0m\u001b[1;33m,\u001b[0m \u001b[0mvalues\u001b[0m\u001b[1;33m.\u001b[0m\u001b[0mvalues\u001b[0m\u001b[1;33m(\u001b[0m\u001b[1;33m)\u001b[0m\u001b[1;33m)\u001b[0m\u001b[1;33m\u001b[0m\u001b[0m\n\u001b[0m\u001b[0;32m     10\u001b[0m \u001b[1;33m\u001b[0m\u001b[0m\n\u001b[0;32m     11\u001b[0m     \u001b[0mvaluest\u001b[0m \u001b[1;33m=\u001b[0m \u001b[1;33m{\u001b[0m\u001b[1;34m'id'\u001b[0m\u001b[1;33m:\u001b[0m \u001b[0mvalues\u001b[0m\u001b[1;33m[\u001b[0m\u001b[1;34m'id'\u001b[0m\u001b[1;33m]\u001b[0m\u001b[1;33m,\u001b[0m \u001b[1;34m'text'\u001b[0m\u001b[1;33m:\u001b[0m \u001b[0munify\u001b[0m\u001b[1;33m.\u001b[0m\u001b[0mopen_text\u001b[0m\u001b[1;33m(\u001b[0m\u001b[0mos\u001b[0m\u001b[1;33m.\u001b[0m\u001b[0mpath\u001b[0m\u001b[1;33m.\u001b[0m\u001b[0mjoin\u001b[0m\u001b[1;33m(\u001b[0m\u001b[0mplain\u001b[0m\u001b[1;33m,\u001b[0m \u001b[0mstr\u001b[0m\u001b[1;33m(\u001b[0m\u001b[0mvalues\u001b[0m\u001b[1;33m[\u001b[0m\u001b[1;34m'id'\u001b[0m\u001b[1;33m]\u001b[0m\u001b[1;33m)\u001b[0m\u001b[1;33m+\u001b[0m\u001b[1;34m\".txt\"\u001b[0m\u001b[1;33m)\u001b[0m\u001b[1;33m)\u001b[0m\u001b[1;33m}\u001b[0m\u001b[1;33m\u001b[0m\u001b[0m\n",
      "\u001b[1;31mValueError\u001b[0m: parameters are of unsupported type"
     ]
    }
   ],
   "source": [
    "for i in range(len(meta)):\n",
    "    values = meta.iloc[i].to_dict()\n",
    "    values['id'] = str(values['id'])\n",
    "    columns = ', '.join(values.keys())\n",
    "    print(columns)\n",
    "    print(values)\n",
    "    placeholders = ', '.join('?' * len(values))\n",
    "    sql = 'INSERT INTO meta ({}) VALUES ({})'.format(columns, placeholders)\n",
    "    cur.execute(sql, values.values())\n",
    "    \n",
    "    valuest = {'id': values['id'], 'text': unify.open_text(os.path.join(plain, str(values['id'])+\".txt\"))}\n",
    "    columns = ', '.join(valuest.keys())\n",
    "    placeholders = ', '.join('?' * len(valuest))\n",
    "    sql2 = 'INSERT INTO plain_texts ({}) VALUES ({})'.format(columns, placeholders) \n",
    "    cur.execute(sql2, valuest.values())\n",
    "    \n",
    "    valuest = {'id': values['id'], 'text': unify.open_text(open(os.path.join(tagged, str(values['id'])+\".txt\"),'r', encoding='utf8').read())}\n",
    "    columns = ', '.join(valuest.keys())\n",
    "    placeholders = ', '.join('?' * len(valuest))\n",
    "    sql3 = 'INSERT INTO tagged_texts ({}) VALUES ({})'.format(columns, placeholders) \n",
    "    cur.execute(sql3, valuest.values())\n",
    "    \n",
    "    con.commit()"
   ]
  },
  {
   "cell_type": "code",
   "execution_count": null,
   "metadata": {
    "collapsed": true
   },
   "outputs": [],
   "source": []
  }
 ],
 "metadata": {
  "kernelspec": {
   "display_name": "Python 3",
   "language": "python",
   "name": "python3"
  },
  "language_info": {
   "codemirror_mode": {
    "name": "ipython",
    "version": 3
   },
   "file_extension": ".py",
   "mimetype": "text/x-python",
   "name": "python",
   "nbconvert_exporter": "python",
   "pygments_lexer": "ipython3",
   "version": "3.6.1"
  }
 },
 "nbformat": 4,
 "nbformat_minor": 2
}
