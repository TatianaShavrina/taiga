{
 "cells": [
  {
   "cell_type": "code",
   "execution_count": 1,
   "metadata": {
    "collapsed": true
   },
   "outputs": [],
   "source": [
    "# -*- coding: utf-8 -*- \n",
    "\n",
    "import re \n",
    "from tqdm import tqdm \n",
    "import time\n",
    "from datetime import datetime\n",
    "import sqlite3\n",
    "import sys\n",
    "import os\n",
    "import pandas as pd\n",
    "import unify"
   ]
  },
  {
   "cell_type": "code",
   "execution_count": 2,
   "metadata": {
    "collapsed": true
   },
   "outputs": [],
   "source": [
    "def connect(file_path, primary, columns):\n",
    "    con = sqlite3.connect(file_path)\n",
    "    cur = con.cursor()\n",
    "    cols = \", \".join([c + ' Varchar' for c in columns]) \n",
    "    cur.execute(\"create table meta (\"+primary+\" Varchar PRIMARY KEY, \"+cols+\" )\")\n",
    "    cur.execute(\"CREATE INDEX log on meta (textid);\")\n",
    "    cur.execute(\"create table plain_texts (id Varchar(128) NOT NULL PRIMARY KEY, text Varchar NOT NULL);\")\n",
    "    cur.execute(\"create table tagged_texts (id Varchar(128) NOT NULL PRIMARY KEY, text Varchar NOT NULL );\")\n",
    "    con.commit()\n",
    "    return con, cur"
   ]
  },
  {
   "cell_type": "code",
   "execution_count": 11,
   "metadata": {},
   "outputs": [
    {
     "data": {
      "text/html": [
       "<div>\n",
       "<style>\n",
       "    .dataframe thead tr:only-child th {\n",
       "        text-align: right;\n",
       "    }\n",
       "\n",
       "    .dataframe thead th {\n",
       "        text-align: left;\n",
       "    }\n",
       "\n",
       "    .dataframe tbody tr th {\n",
       "        vertical-align: top;\n",
       "    }\n",
       "</style>\n",
       "<table border=\"1\" class=\"dataframe\">\n",
       "  <thead>\n",
       "    <tr style=\"text-align: right;\">\n",
       "      <th></th>\n",
       "      <th>segment</th>\n",
       "      <th>textid</th>\n",
       "      <th>textname</th>\n",
       "      <th>textregion</th>\n",
       "      <th>textrubric</th>\n",
       "      <th>textdiff</th>\n",
       "      <th>author</th>\n",
       "      <th>authortexts</th>\n",
       "      <th>authorreaders</th>\n",
       "      <th>magazine</th>\n",
       "      <th>date</th>\n",
       "      <th>time</th>\n",
       "      <th>tags</th>\n",
       "      <th>source</th>\n",
       "    </tr>\n",
       "  </thead>\n",
       "  <tbody>\n",
       "    <tr>\n",
       "      <th>0</th>\n",
       "      <td>Interfax</td>\n",
       "      <td>world549261</td>\n",
       "      <td>На северо-востоке США объявлено штормовое пред...</td>\n",
       "      <td></td>\n",
       "      <td>В мире</td>\n",
       "      <td></td>\n",
       "      <td></td>\n",
       "      <td></td>\n",
       "      <td></td>\n",
       "      <td></td>\n",
       "      <td>2017-02-09</td>\n",
       "      <td>18:45</td>\n",
       "      <td>США</td>\n",
       "      <td>http://www.interfax.ru/world/549261</td>\n",
       "    </tr>\n",
       "    <tr>\n",
       "      <th>1</th>\n",
       "      <td>Interfax</td>\n",
       "      <td>russia549262</td>\n",
       "      <td>Путин выразил Эрдогану соболезнования после уд...</td>\n",
       "      <td></td>\n",
       "      <td>В России</td>\n",
       "      <td></td>\n",
       "      <td></td>\n",
       "      <td></td>\n",
       "      <td></td>\n",
       "      <td></td>\n",
       "      <td>2017-02-09</td>\n",
       "      <td>18:43</td>\n",
       "      <td>Сирия</td>\n",
       "      <td>http://www.interfax.ru/russia/549262</td>\n",
       "    </tr>\n",
       "    <tr>\n",
       "      <th>2</th>\n",
       "      <td>Interfax</td>\n",
       "      <td>world549259</td>\n",
       "      <td>В Германии суд отправил на доработку проект уг...</td>\n",
       "      <td></td>\n",
       "      <td>В мире</td>\n",
       "      <td></td>\n",
       "      <td></td>\n",
       "      <td></td>\n",
       "      <td></td>\n",
       "      <td></td>\n",
       "      <td>2017-02-09</td>\n",
       "      <td>18:33</td>\n",
       "      <td>Германия</td>\n",
       "      <td>http://www.interfax.ru/world/549259</td>\n",
       "    </tr>\n",
       "    <tr>\n",
       "      <th>3</th>\n",
       "      <td>Interfax</td>\n",
       "      <td>world549255</td>\n",
       "      <td>Трое турецких военных погибли в Сирии в резуль...</td>\n",
       "      <td></td>\n",
       "      <td>В мире</td>\n",
       "      <td></td>\n",
       "      <td></td>\n",
       "      <td></td>\n",
       "      <td></td>\n",
       "      <td></td>\n",
       "      <td>2017-02-09</td>\n",
       "      <td>18:15</td>\n",
       "      <td>Россия</td>\n",
       "      <td>http://www.interfax.ru/world/549255</td>\n",
       "    </tr>\n",
       "    <tr>\n",
       "      <th>4</th>\n",
       "      <td>Interfax</td>\n",
       "      <td>russia549254</td>\n",
       "      <td>В Крыму восстановили электроснабжение обесточе...</td>\n",
       "      <td></td>\n",
       "      <td>В России</td>\n",
       "      <td></td>\n",
       "      <td></td>\n",
       "      <td></td>\n",
       "      <td></td>\n",
       "      <td></td>\n",
       "      <td>2017-02-09</td>\n",
       "      <td>18:12</td>\n",
       "      <td>Крым</td>\n",
       "      <td>http://www.interfax.ru/russia/549254</td>\n",
       "    </tr>\n",
       "  </tbody>\n",
       "</table>\n",
       "</div>"
      ],
      "text/plain": [
       "    segment        textid                                           textname  \\\n",
       "0  Interfax   world549261  На северо-востоке США объявлено штормовое пред...   \n",
       "1  Interfax  russia549262  Путин выразил Эрдогану соболезнования после уд...   \n",
       "2  Interfax   world549259  В Германии суд отправил на доработку проект уг...   \n",
       "3  Interfax   world549255  Трое турецких военных погибли в Сирии в резуль...   \n",
       "4  Interfax  russia549254  В Крыму восстановили электроснабжение обесточе...   \n",
       "\n",
       "  textregion textrubric textdiff author authortexts authorreaders magazine  \\\n",
       "0                В мире                                                      \n",
       "1              В России                                                      \n",
       "2                В мире                                                      \n",
       "3                В мире                                                      \n",
       "4              В России                                                      \n",
       "\n",
       "         date   time      tags                                source  \n",
       "0  2017-02-09  18:45       США   http://www.interfax.ru/world/549261  \n",
       "1  2017-02-09  18:43     Сирия  http://www.interfax.ru/russia/549262  \n",
       "2  2017-02-09  18:33  Германия   http://www.interfax.ru/world/549259  \n",
       "3  2017-02-09  18:15    Россия   http://www.interfax.ru/world/549255  \n",
       "4  2017-02-09  18:12      Крым  http://www.interfax.ru/russia/549254  "
      ]
     },
     "execution_count": 11,
     "metadata": {},
     "output_type": "execute_result"
    }
   ],
   "source": [
    "workdir = r'/home/tari/Загрузки/taiga/Interfax'\n",
    "filename = 'Interfax.db'\n",
    "file_path = os.path.join(workdir, filename)\n",
    "metatablepath = os.path.join(workdir,'newmetadata.csv')\n",
    "tagged = os.path.join(workdir,'texts_tagged')\n",
    "plain = os.path.join(workdir,'texts')\n",
    "\n",
    "meta = pd.read_csv(metatablepath, sep='\\t', encoding='utf8')\n",
    "meta = meta.fillna('')\n",
    "meta.head()"
   ]
  },
  {
   "cell_type": "code",
   "execution_count": 12,
   "metadata": {},
   "outputs": [
    {
     "data": {
      "text/plain": [
       "Index(['segment', 'textid', 'textname', 'textregion', 'textrubric', 'textdiff',\n",
       "       'author', 'authortexts', 'authorreaders', 'magazine', 'date', 'time',\n",
       "       'tags', 'source'],\n",
       "      dtype='object')"
      ]
     },
     "execution_count": 12,
     "metadata": {},
     "output_type": "execute_result"
    }
   ],
   "source": [
    "meta.columns"
   ]
  },
  {
   "cell_type": "code",
   "execution_count": 14,
   "metadata": {},
   "outputs": [],
   "source": [
    "if not os.path.exists(filename):\n",
    "    con, cur = connect(filename, meta.columns[1], [meta.columns[0]]+list(meta.columns[2:]))\n",
    "else:\n",
    "    con = sqlite3.connect(filename, meta.columns[1], [meta.columns[0]]+list(meta.columns[2:]))\n",
    "    cur = con.cursor()"
   ]
  },
  {
   "cell_type": "code",
   "execution_count": 15,
   "metadata": {},
   "outputs": [
    {
     "data": {
      "text/plain": [
       "{'author': '',\n",
       " 'authorreaders': '',\n",
       " 'authortexts': '',\n",
       " 'date': '2017-02-09',\n",
       " 'magazine': '',\n",
       " 'segment': 'Interfax',\n",
       " 'source': 'http://www.interfax.ru/world/549252',\n",
       " 'tags': 'Баку',\n",
       " 'textdiff': '',\n",
       " 'textid': 'world549252',\n",
       " 'textname': 'Российские дипломаты встретились в Баку с блогером Лапшиным',\n",
       " 'textregion': '',\n",
       " 'textrubric': 'В мире',\n",
       " 'time': '18:06'}"
      ]
     },
     "execution_count": 15,
     "metadata": {},
     "output_type": "execute_result"
    }
   ],
   "source": [
    "meta.iloc[6].to_dict()"
   ]
  },
  {
   "cell_type": "code",
   "execution_count": null,
   "metadata": {
    "collapsed": true
   },
   "outputs": [],
   "source": [
    "for i in tqdm(range(len(meta))):\n",
    "    values = meta.iloc[i].to_dict()\n",
    "\n",
    "    \n",
    "    columns = ', '.join(values.keys())\n",
    "    \n",
    "    #print(list(values.values()))\n",
    "    placeholders = ', '.join('?' * len(values))\n",
    "    sql = 'INSERT INTO meta ({}) VALUES ({})'.format(columns, placeholders)\n",
    "    #print(sql)\n",
    "    cur.execute(sql, list(values.values()))\n",
    "    \n",
    "    valuest = {'id': values['textid'], 'text': unify.open_text(os.path.join(plain, str(values['textid'])+\".txt\"))}\n",
    "    \n",
    "    columns = ', '.join(valuest.keys())\n",
    "    placeholders = ', '.join('?' * len(valuest))\n",
    "    sql2 = 'INSERT INTO plain_texts ({}) VALUES ({})'.format(columns, placeholders) \n",
    "    cur.execute(sql2, list(valuest.values()))\n",
    "    try:\n",
    "        valuest2 = {'id': values['textid'], 'text': unify.open_text(open(os.path.join(tagged, str(values['textid'])+\".txt\"),'r', encoding='utf8').read())}\n",
    "        columns = ', '.join(valuest2.keys())\n",
    "        placeholders = ', '.join('?' * len(valuest2))\n",
    "        sql3 = 'INSERT INTO tagged_texts ({}) VALUES ({})'.format(columns, placeholders) \n",
    "        cur.execute(sql3, list(valuest2.values()))\n",
    "    except:\n",
    "        valuest2 = {'id': values['textid'], 'text': \"\"}\n",
    "        columns = ', '.join(valuest2.keys())\n",
    "        placeholders = ', '.join('?' * len(valuest2))\n",
    "        sql3 = 'INSERT INTO tagged_texts ({}) VALUES ({})'.format(columns, placeholders) \n",
    "        cur.execute(sql3, list(valuest2.values()))\n",
    "    con.commit()"
   ]
  }
 ],
 "metadata": {
  "kernelspec": {
   "display_name": "Python 3",
   "language": "python",
   "name": "python3"
  },
  "language_info": {
   "codemirror_mode": {
    "name": "ipython",
    "version": 3
   },
   "file_extension": ".py",
   "mimetype": "text/x-python",
   "name": "python",
   "nbconvert_exporter": "python",
   "pygments_lexer": "ipython3",
   "version": "3.5.2"
  }
 },
 "nbformat": 4,
 "nbformat_minor": 2
}
