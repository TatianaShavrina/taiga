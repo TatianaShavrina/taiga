{
 "cells": [
  {
   "cell_type": "code",
   "execution_count": 29,
   "metadata": {},
   "outputs": [],
   "source": [
    "# -*- coding: utf-8 -*- \n",
    "\n",
    "import re \n",
    "from tqdm import tqdm \n",
    "import time\n",
    "from datetime import datetime\n",
    "import sqlite3\n",
    "import sys\n",
    "import os\n",
    "import pandas as pd\n",
    "import unify"
   ]
  },
  {
   "cell_type": "code",
   "execution_count": 8,
   "metadata": {
    "collapsed": true
   },
   "outputs": [],
   "source": [
    "def connect(file_path, primary, columns):\n",
    "    con = sqlite3.connect(file_path)\n",
    "    cur = con.cursor()\n",
    "    cols = \", \".join([c + ' Varchar' for c in columns]) \n",
    "    cur.execute(\"create table meta (\"+primary+\" Varchar PRIMARY KEY, \"+cols+\" )\")\n",
    "    cur.execute(\"CREATE INDEX log on meta (textid);\")\n",
    "    cur.execute(\"create table plain_texts (id Varchar(128) NOT NULL PRIMARY KEY, text Varchar NOT NULL);\")\n",
    "    cur.execute(\"create table tagged_texts (id Varchar(128) NOT NULL PRIMARY KEY, text Varchar NOT NULL );\")\n",
    "    con.commit()\n",
    "    return con, cur"
   ]
  },
  {
   "cell_type": "code",
   "execution_count": 36,
   "metadata": {},
   "outputs": [
    {
     "data": {
      "text/html": [
       "<div>\n",
       "<style>\n",
       "    .dataframe thead tr:only-child th {\n",
       "        text-align: right;\n",
       "    }\n",
       "\n",
       "    .dataframe thead th {\n",
       "        text-align: left;\n",
       "    }\n",
       "\n",
       "    .dataframe tbody tr th {\n",
       "        vertical-align: top;\n",
       "    }\n",
       "</style>\n",
       "<table border=\"1\" class=\"dataframe\">\n",
       "  <thead>\n",
       "    <tr style=\"text-align: right;\">\n",
       "      <th></th>\n",
       "      <th>segment</th>\n",
       "      <th>textid</th>\n",
       "      <th>textname</th>\n",
       "      <th>textregion</th>\n",
       "      <th>textrubric</th>\n",
       "      <th>textdiff</th>\n",
       "      <th>author</th>\n",
       "      <th>authortexts</th>\n",
       "      <th>authorreaders</th>\n",
       "      <th>magazine</th>\n",
       "      <th>date</th>\n",
       "      <th>time</th>\n",
       "      <th>tags</th>\n",
       "      <th>source</th>\n",
       "    </tr>\n",
       "  </thead>\n",
       "  <tbody>\n",
       "    <tr>\n",
       "      <th>0</th>\n",
       "      <td>nplus1</td>\n",
       "      <td>20151029radar</td>\n",
       "      <td>Французы испытали пассивный «летающий радар»</td>\n",
       "      <td></td>\n",
       "      <td>Оружие</td>\n",
       "      <td>2.1</td>\n",
       "      <td>Василий Сычев</td>\n",
       "      <td></td>\n",
       "      <td></td>\n",
       "      <td></td>\n",
       "      <td>29 Окт. 2015</td>\n",
       "      <td>16:47</td>\n",
       "      <td></td>\n",
       "      <td>https://nplus1.ru/news/2015/10/29/radar</td>\n",
       "    </tr>\n",
       "    <tr>\n",
       "      <th>1</th>\n",
       "      <td>nplus1</td>\n",
       "      <td>20161212aggressive-drones</td>\n",
       "      <td>Для агрессивных маневров дронам хватило камеры...</td>\n",
       "      <td></td>\n",
       "      <td>Технологии</td>\n",
       "      <td>2.6</td>\n",
       "      <td>Николай Воронцов</td>\n",
       "      <td></td>\n",
       "      <td></td>\n",
       "      <td></td>\n",
       "      <td>12 Дек. 2016</td>\n",
       "      <td>17:27</td>\n",
       "      <td></td>\n",
       "      <td>https://nplus1.ru/news/2016/12/12/aggressive-d...</td>\n",
       "    </tr>\n",
       "    <tr>\n",
       "      <th>2</th>\n",
       "      <td>nplus1</td>\n",
       "      <td>20150826twinjet-hubble</td>\n",
       "      <td>«Хаббл» получил новые фотографии «крыльев» Баб...</td>\n",
       "      <td></td>\n",
       "      <td>Технологии</td>\n",
       "      <td>1.1</td>\n",
       "      <td></td>\n",
       "      <td></td>\n",
       "      <td></td>\n",
       "      <td></td>\n",
       "      <td>26 Авг. 2015</td>\n",
       "      <td>17:46</td>\n",
       "      <td></td>\n",
       "      <td>https://nplus1.ru/news/2015/08/26/twinjet-hubble</td>\n",
       "    </tr>\n",
       "    <tr>\n",
       "      <th>3</th>\n",
       "      <td>nplus1</td>\n",
       "      <td>20150826shining-solved-profile</td>\n",
       "      <td>Криминологи научились вычислять будущих бытовы...</td>\n",
       "      <td></td>\n",
       "      <td></td>\n",
       "      <td>4.4</td>\n",
       "      <td></td>\n",
       "      <td></td>\n",
       "      <td></td>\n",
       "      <td></td>\n",
       "      <td>26 Авг. 2015</td>\n",
       "      <td>14:15</td>\n",
       "      <td></td>\n",
       "      <td>https://nplus1.ru/news/2015/08/26/shining-solv...</td>\n",
       "    </tr>\n",
       "    <tr>\n",
       "      <th>4</th>\n",
       "      <td>nplus1</td>\n",
       "      <td>20160111snow</td>\n",
       "      <td>Ford начал снежные испытания беспилотного авто...</td>\n",
       "      <td></td>\n",
       "      <td>Транспорт</td>\n",
       "      <td>1.7</td>\n",
       "      <td>Василий Сычев</td>\n",
       "      <td></td>\n",
       "      <td></td>\n",
       "      <td></td>\n",
       "      <td>11 Янв. 2016</td>\n",
       "      <td>09:44</td>\n",
       "      <td></td>\n",
       "      <td>https://nplus1.ru/news/2016/01/11/snow</td>\n",
       "    </tr>\n",
       "  </tbody>\n",
       "</table>\n",
       "</div>"
      ],
      "text/plain": [
       "  segment                          textid  \\\n",
       "0  nplus1                   20151029radar   \n",
       "1  nplus1       20161212aggressive-drones   \n",
       "2  nplus1          20150826twinjet-hubble   \n",
       "3  nplus1  20150826shining-solved-profile   \n",
       "4  nplus1                    20160111snow   \n",
       "\n",
       "                                            textname textregion  textrubric  \\\n",
       "0       Французы испытали пассивный «летающий радар»                 Оружие   \n",
       "1  Для агрессивных маневров дронам хватило камеры...             Технологии   \n",
       "2  «Хаббл» получил новые фотографии «крыльев» Баб...             Технологии   \n",
       "3  Криминологи научились вычислять будущих бытовы...                          \n",
       "4  Ford начал снежные испытания беспилотного авто...              Транспорт   \n",
       "\n",
       "   textdiff            author authortexts authorreaders magazine  \\\n",
       "0       2.1     Василий Сычев                                      \n",
       "1       2.6  Николай Воронцов                                      \n",
       "2       1.1                                                        \n",
       "3       4.4                                                        \n",
       "4       1.7     Василий Сычев                                      \n",
       "\n",
       "           date   time tags                                             source  \n",
       "0  29 Окт. 2015  16:47                 https://nplus1.ru/news/2015/10/29/radar  \n",
       "1  12 Дек. 2016  17:27       https://nplus1.ru/news/2016/12/12/aggressive-d...  \n",
       "2  26 Авг. 2015  17:46        https://nplus1.ru/news/2015/08/26/twinjet-hubble  \n",
       "3  26 Авг. 2015  14:15       https://nplus1.ru/news/2015/08/26/shining-solv...  \n",
       "4  11 Янв. 2016  09:44                  https://nplus1.ru/news/2016/01/11/snow  "
      ]
     },
     "execution_count": 36,
     "metadata": {},
     "output_type": "execute_result"
    }
   ],
   "source": [
    "workdir = r'/home/tari/Загрузки/taiga/nplus1'\n",
    "filename = 'nplus1.db'\n",
    "file_path = os.path.join(workdir, filename)\n",
    "metatablepath = os.path.join(workdir,'newmetadata.csv')\n",
    "tagged = os.path.join(workdir,'texts_tagged')\n",
    "plain = os.path.join(workdir,'texts')\n",
    "\n",
    "meta = pd.read_csv(metatablepath, sep='\\t', encoding='utf8')\n",
    "meta = meta.fillna('')\n",
    "meta.head()"
   ]
  },
  {
   "cell_type": "code",
   "execution_count": 40,
   "metadata": {},
   "outputs": [],
   "source": [
    "if not os.path.exists(filename):\n",
    "    con, cur = connect(filename, meta.columns[1], [meta.columns[0]]+list(meta.columns[2:]))\n",
    "else:\n",
    "    con = sqlite3.connect(filename, meta.columns[1], [meta.columns[0]]+list(meta.columns[2:]))\n",
    "    cur = con.cursor()"
   ]
  },
  {
   "cell_type": "code",
   "execution_count": 32,
   "metadata": {},
   "outputs": [
    {
     "name": "stdout",
     "output_type": "stream",
     "text": [
      "[('table', 'meta', 'meta', 2, 'CREATE TABLE meta (textid Varchar PRIMARY KEY, segment Varchar, textname Varchar, textregion Varchar, textrubric Varchar, textdiff Varchar, author Varchar, authortexts Varchar, authorreaders Varchar, magazine Varchar, date Varchar, time Varchar, tags Varchar, source Varchar )'), ('table', 'plain_texts', 'plain_texts', 5, 'CREATE TABLE plain_texts (id Varchar(128) NOT NULL PRIMARY KEY, text Varchar NOT NULL)'), ('table', 'tagged_texts', 'tagged_texts', 7, 'CREATE TABLE tagged_texts (id Varchar(128) NOT NULL PRIMARY KEY, text Varchar NOT NULL )')]\n"
     ]
    }
   ],
   "source": [
    "cur.execute(\"SELECT * FROM sqlite_master WHERE type='table';\")\n",
    "print(cur.fetchall())"
   ]
  },
  {
   "cell_type": "code",
   "execution_count": 21,
   "metadata": {},
   "outputs": [
    {
     "data": {
      "text/plain": [
       "{'author': 'Николай Воронцов',\n",
       " 'authorreaders': '',\n",
       " 'authortexts': '',\n",
       " 'date': '07 Окт. 2015',\n",
       " 'magazine': '',\n",
       " 'segment': 'nplus1',\n",
       " 'source': 'https://nplus1.ru/news/2015/10/07/makerarm-adam',\n",
       " 'tags': '',\n",
       " 'textdiff': 1.6000000000000001,\n",
       " 'textid': '20151007makerarm-adam',\n",
       " 'textname': 'На Kickstarter появилось два проекта 3D-МФУ',\n",
       " 'textregion': '',\n",
       " 'textrubric': 'Гаджеты',\n",
       " 'time': '16:00'}"
      ]
     },
     "execution_count": 21,
     "metadata": {},
     "output_type": "execute_result"
    }
   ],
   "source": [
    "meta.iloc[6].to_dict()"
   ]
  },
  {
   "cell_type": "code",
   "execution_count": null,
   "metadata": {},
   "outputs": [],
   "source": [
    "for i in range(len(meta)):\n",
    "    values = meta.iloc[i].to_dict()\n",
    "    values['textid'] = str(values['textid'])\n",
    "    values['textdiff'] = str(values['textdiff'])\n",
    "    columns = ', '.join(values.keys())\n",
    "    \n",
    "    #print(list(values.values()))\n",
    "    placeholders = ', '.join('?' * len(values))\n",
    "    sql = 'INSERT INTO meta ({}) VALUES ({})'.format(columns, placeholders)\n",
    "    #print(sql)\n",
    "    cur.execute(sql, list(values.values()))\n",
    "    \n",
    "    valuest = {'id': values['textid'], 'text': unify.open_text(os.path.join(plain, str(values['textid'])+\".txt\"))}\n",
    "    \n",
    "    columns = ', '.join(valuest.keys())\n",
    "    placeholders = ', '.join('?' * len(valuest))\n",
    "    sql2 = 'INSERT INTO plain_texts ({}) VALUES ({})'.format(columns, placeholders) \n",
    "    cur.execute(sql2, list(valuest.values()))\n",
    "    try:\n",
    "        valuest2 = {'id': values['textid'], 'text': unify.open_text(open(os.path.join(tagged, str(values['textid'])+\".txt\"),'r', encoding='utf8').read())}\n",
    "        columns = ', '.join(valuest2.keys())\n",
    "        placeholders = ', '.join('?' * len(valuest2))\n",
    "        sql3 = 'INSERT INTO tagged_texts ({}) VALUES ({})'.format(columns, placeholders) \n",
    "        cur.execute(sql3, list(valuest2.values()))\n",
    "    except:\n",
    "        valuest2 = {'id': values['textid'], 'text': \"\"}\n",
    "        columns = ', '.join(valuest2.keys())\n",
    "        placeholders = ', '.join('?' * len(valuest2))\n",
    "        sql3 = 'INSERT INTO tagged_texts ({}) VALUES ({})'.format(columns, placeholders) \n",
    "        cur.execute(sql3, list(valuest2.values()))\n",
    "    con.commit()"
   ]
  },
  {
   "cell_type": "code",
   "execution_count": null,
   "metadata": {
    "collapsed": true
   },
   "outputs": [],
   "source": [
    "(textid Varchar PRIMARY KEY, segment Varchar, textname Varchar, textregion Varchar, textrubric Varchar, textdiff Varchar, author Varchar, authortexts Varchar, authorreaders Varchar, magazine Varchar, date Varchar, time Varchar, tags Varchar, source Varchar )"
   ]
  }
 ],
 "metadata": {
  "kernelspec": {
   "display_name": "Python 3",
   "language": "python",
   "name": "python3"
  }
 },
 "nbformat": 4,
 "nbformat_minor": 2
}
